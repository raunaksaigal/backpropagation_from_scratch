{
 "cells": [
  {
   "cell_type": "code",
   "execution_count": 1,
   "id": "36a4a96a-3d8a-485f-8afb-cb0dde00bee6",
   "metadata": {},
   "outputs": [],
   "source": [
    "import numpy as np\n",
    "import pandas as pd\n",
    "import matplotlib.pyplot as plt\n",
    "import random\n",
    "from random import seed"
   ]
  },
  {
   "cell_type": "code",
   "execution_count": 2,
   "id": "7cbe568b-574a-4da4-88db-d0f22fe03c01",
   "metadata": {},
   "outputs": [],
   "source": [
    "def preprocessing(epochs, orig_dataset):\n",
    "    \n",
    "    dataset = (orig_dataset - orig_dataset.min())/(orig_dataset.max()-orig_dataset.min())\n",
    "    dataset['y'] = pd.to_numeric(orig_dataset['y'], downcast='integer')\n",
    "    x = dataset #;y=x.pop('y')\n",
    "    training_sets = np.zeros(5)\n",
    "    training_sets = list(training_sets)\n",
    "    for counter in range(epochs):\n",
    "        new_set = pd.DataFrame(data=[],columns=x.columns)\n",
    "        for k in range(len(x)//epochs):\n",
    "            i = random.randrange(len(x))\n",
    "            new_set.loc[k] = x.iloc[i]\n",
    "            x.drop(i)\n",
    "        training_sets[counter] = new_set\n",
    "    return training_sets\n",
    "# print(data[0])"
   ]
  },
  {
   "cell_type": "code",
   "execution_count": 3,
   "id": "b820b714-8b77-4adb-b881-7ee0b5c90c40",
   "metadata": {},
   "outputs": [],
   "source": [
    "def network_create(layers):\n",
    "    network = []\n",
    "    \n",
    "    for i in range(len(layers)):\n",
    "        layer = {}\n",
    "        inputs, nodes = layers[i]\n",
    "        # weight = 0.5+np.random.randn(nodes, inputs)*0.25\n",
    "        weight = np.random.rand(nodes, inputs)\n",
    "        # bias = 2+np.random.randn(nodes)*3\n",
    "        bias = np.random.randn(nodes)\n",
    "        layer['w'] = weight.astype('float64')\n",
    "        layer['b'] = bias.astype('float64')\n",
    "        layer['del'] = np.zeros(nodes)\n",
    "        network.append(layer)\n",
    "    # for i in network:\n",
    "    #     print(i)\n",
    "    return network\n",
    "\n",
    "\n"
   ]
  },
  {
   "cell_type": "code",
   "execution_count": 4,
   "id": "a9cbd419-2511-4b40-ad90-7974bc4d7039",
   "metadata": {},
   "outputs": [],
   "source": [
    "def sigmoid(z):\n",
    "    z = z.astype('float64')\n",
    "    return 1/(1+np.exp(-z))"
   ]
  },
  {
   "cell_type": "code",
   "execution_count": 5,
   "id": "d7311386-36b9-4c33-9223-be637bad27d7",
   "metadata": {},
   "outputs": [],
   "source": [
    "def softmax(z):\n",
    "    a = np.zeros(z.shape)\n",
    "    for i in range(len(z)):\n",
    "        a[i] = z[i]/np.sum(z)\n",
    "    return a"
   ]
  },
  {
   "cell_type": "code",
   "execution_count": 6,
   "id": "e0731f38-c9f2-434f-a5f7-efec1d529cd4",
   "metadata": {},
   "outputs": [],
   "source": [
    "def Dense(A_in,W,B,func):\n",
    "    Z = A_in @ W.T + B\n",
    "    A_out = func(Z)\n",
    "    return A_out"
   ]
  },
  {
   "cell_type": "code",
   "execution_count": 7,
   "id": "05c3108b-0735-45be-853e-c29c3e3f3e66",
   "metadata": {},
   "outputs": [],
   "source": [
    "def forward_prop(data, network):\n",
    "    a_in = data\n",
    "    for layer in range(len(network)):\n",
    "        a_out = Dense(a_in, network[layer]['w'], network[layer]['b'],sigmoid)\n",
    "        network[layer]['z'] = a_out\n",
    "        a_in = a_out\n",
    "    # print(network) \n",
    "    \n",
    "    return network\n",
    "    "
   ]
  },
  {
   "cell_type": "code",
   "execution_count": 8,
   "id": "12bc7688-b91e-4dbd-82f6-205c888b6a3b",
   "metadata": {},
   "outputs": [],
   "source": [
    "def transfer_derivative(z):\n",
    "    return z*(1.0-z)"
   ]
  },
  {
   "cell_type": "code",
   "execution_count": 9,
   "id": "6e0acbef-2824-4c9d-8b22-12974c1413d5",
   "metadata": {},
   "outputs": [],
   "source": [
    "def update_w_b(network,layers,learning_rate,data):\n",
    "    # print(network)\n",
    "    for i in range(len(network)):\n",
    "        for k in range(layers[i][1]):\n",
    "            if i>0:\n",
    "                for j in range(layers[i][0]):\n",
    "                    # print(network[i]['del'])#*network[i-1]['z'][j])\n",
    "                    network[i]['w'][k][j] -= learning_rate*network[i]['del'][k]*network[i-1]['z'][j]\n",
    "                network[i]['b'][k] -= learning_rate*network[i]['del'][k]\n",
    "            else:\n",
    "                for j in range(layers[i][0]):\n",
    "                    network[i]['w'][k][j] -= learning_rate*network[i]['del'][k]*data[:-1].iloc[j]\n",
    "                network[i]['b'][k] -= learning_rate*network[i]['del'][k]\n",
    "    # print(network)\n",
    "    return network"
   ]
  },
  {
   "cell_type": "code",
   "execution_count": 10,
   "id": "5d2f0da0-1495-4c9f-92bd-e0d897a20e34",
   "metadata": {},
   "outputs": [],
   "source": [
    "def backpropagate(data, network, layers, l_rate):\n",
    "    data_y = np.zeros(layers[-1][1])\n",
    "    data_y[int(data['y']-1)] = 1\n",
    "    expected = data_y\n",
    "    for i in reversed(range(len(network))):\n",
    "        layer = network[i]\n",
    "        if i != len(network)-1:\n",
    "            for j in range(len(layers[i][1])):\n",
    "                for n in range(len(layers[i+1][1])):\n",
    "                    network[i]['del'][j]+=network[i+1]['w'][j]*network[i+1]['del'][n]\n",
    "        else:\n",
    "            layer['del'] = network[i]['z'] - data_y\n",
    "        network[i]['del'] *= transfer_derivative(network[i]['z'])\n",
    "        return update_w_b(network,layers,l_rate,data)\n",
    "                "
   ]
  },
  {
   "cell_type": "code",
   "execution_count": 11,
   "id": "274c1ad9-d004-4091-ac29-89d87c2b5ac8",
   "metadata": {},
   "outputs": [],
   "source": [
    "def predict(data_row_test, network,output):\n",
    "    y = data_row_test.pop('y')\n",
    "    a_in = data_row_test\n",
    "    network = forward_prop(a_in,network)\n",
    "    a_out = network[-1]['z']\n",
    "    output[0].append(y)\n",
    "    output[1].append(list(a_out).index(max(list(a_out)))+1)\n",
    "\n",
    "######## print this line to see the predictions made by the model#########\n",
    "    # print('pred-',y,a_out,list(a_out).index(max(list(a_out)))+1) #\n",
    "#########################################################################\n",
    "    \n",
    "    return output"
   ]
  },
  {
   "cell_type": "code",
   "execution_count": 12,
   "id": "b529006c-3dd6-40d7-ac3f-24a106e41537",
   "metadata": {},
   "outputs": [],
   "source": [
    "def accuracy_metric(test,network,accuracy):\n",
    "    for test_item in range(test.shape[0]):\n",
    "    # print(test.iloc[test_item])\n",
    "        accuracy = predict(test.iloc[test_item], network, accuracy)\n",
    "    return accuracy"
   ]
  },
  {
   "cell_type": "code",
   "execution_count": 13,
   "id": "4889d08e-6c59-4431-8e11-7fc2f326ea8c",
   "metadata": {},
   "outputs": [],
   "source": [
    "def evaluate(predicted):\n",
    "    c = 0\n",
    "    samples = len(predicted[0])\n",
    "    for i in range(samples):\n",
    "        if predicted[0][i] == predicted[1][i]:\n",
    "            c+=1\n",
    "    accuracy = c/samples*100\n",
    "    return accuracy\n",
    "\n",
    "def score(folds, split_set):\n",
    "    accuracy = [[],[]]\n",
    "    a = np.zeros(folds)\n",
    "    for i in range(folds):\n",
    "        accuracy = accuracy_metric(sets[i],network,accuracy)\n",
    "        a[i] = evaluate(accuracy)\n",
    "        # print(a[i], end=\" \")\n",
    "    # print(\"\\ntotal average score = \", np.sum(a)/folds)\n",
    "    return a\n",
    "    "
   ]
  },
  {
   "cell_type": "code",
   "execution_count": 18,
   "id": "05788181-6354-4794-8ddd-f3221f9283a4",
   "metadata": {},
   "outputs": [
    {
     "data": {
      "image/png": "[encoded data removed]",
      "text/plain": [
       "<Figure size 640x480 with 1 Axes>"
      ]
     },
     "metadata": {},
     "output_type": "display_data"
    }
   ],
   "source": [
    "\n",
    "\n",
    "##################### initialization ##########################\n",
    "\n",
    "orig_dataset = pd.read_csv('seeds_dataset.csv')\n",
    "\n",
    "n_folds = 5\n",
    "\n",
    "# change the parameters for layer information\n",
    "# (input_nodes, current_nodes) for the given layer. \n",
    "# The first node contains the input layer and he last node is the output layer\n",
    "\n",
    "layer_info = [(7,5),(5,3)]\n",
    "lr = 1 # learning rate\n",
    "nepochs = 20 # epochs\n",
    "random_selection = 42\n",
    "random_wb = 42\n",
    "seed(random_selection) # seed 42 gives decent results\n",
    "np.random.seed(random_wb) \n",
    "\n",
    "# print(network)\n",
    "\n",
    "###################### main ###########################\n",
    "\n",
    "network = network_create(layer_info)\n",
    "sets = preprocessing(n_folds, orig_dataset)\n",
    "epochs = np.arange(0,nepochs,2)\n",
    "entire = pd.DataFrame([],columns = [0,1,2,3,4])\n",
    "c = 0\n",
    "# print(epochs)\n",
    "for epoch in epochs:\n",
    "    for _ in range(epoch):\n",
    "        accuracy = [[],[]]\n",
    "        for i in range(n_folds):\n",
    "            sets_cpy = sets[:]\n",
    "            test = sets_cpy.pop(i)\n",
    "            train = pd.concat(sets_cpy)\n",
    "            # print('\\n\\ntest------',test)\n",
    "            # print('\\n\\ntrain------',train)\n",
    "            for item in range(train.shape[0]):\n",
    "                data_row = train.iloc[item]\n",
    "                or_data_row = data_row[:]\n",
    "                y = data_row.pop('y')\n",
    "                network = backpropagate(or_data_row, forward_prop(data_row, network), layer_info,lr)\n",
    "    a = list(score(n_folds, sets))\n",
    "    entire.loc[c] = a\n",
    "    c+=1\n",
    "colors = ['b','g','k','c','m']\n",
    "# print(entire.shape)\n",
    "for i in range(entire.shape[1]):\n",
    "    # print(entire[i])\n",
    "    plt.plot(epochs, entire[i], colors[i])\n",
    "plt.show()"
   ]
  },
  {
   "cell_type": "code",
   "execution_count": 15,
   "id": "aa1746b9-e7cd-49e4-a559-522b0e235be8",
   "metadata": {},
   "outputs": [],
   "source": [
    "a = score(n_folds, sets)"
   ]
  },
  {
   "cell_type": "code",
   "execution_count": 16,
   "id": "215cf96f-0d91-416f-a95a-ab84104eeaf8",
   "metadata": {},
   "outputs": [],
   "source": [
    "a =predict(sets[1], network,accuracy)\n",
    "    \n",
    "# for i in range entire.shape[]\n",
    "\n",
    "    \n",
    "    "
   ]
  },
  {
   "cell_type": "code",
   "execution_count": null,
   "id": "0ec8d4c4-1ce4-445d-9d84-322986d1ae0a",
   "metadata": {},
   "outputs": [],
   "source": []
  }
 ],
 "metadata": {
  "kernelspec": {
   "display_name": "Python 3 (ipykernel)",
   "language": "python",
   "name": "python3"
  },
  "language_info": {
   "codemirror_mode": {
    "name": "ipython",
    "version": 3
   },
   "file_extension": ".py",
   "mimetype": "text/x-python",
   "name": "python",
   "nbconvert_exporter": "python",
   "pygments_lexer": "ipython3",
   "version": "3.12.2"
  }
 },
 "nbformat": 4,
 "nbformat_minor": 5
}
