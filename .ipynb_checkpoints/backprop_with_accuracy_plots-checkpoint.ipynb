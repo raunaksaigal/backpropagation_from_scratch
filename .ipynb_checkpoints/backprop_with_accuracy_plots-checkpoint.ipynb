{
 "cells": [
  {
   "cell_type": "code",
   "execution_count": 1,
   "id": "36a4a96a-3d8a-485f-8afb-cb0dde00bee6",
   "metadata": {},
   "outputs": [],
   "source": [
    "import numpy as np\n",
    "import pandas as pd\n",
    "import matplotlib.pyplot as plt\n",
    "import random\n",
    "from random import seed"
   ]
  },
  {
   "cell_type": "code",
   "execution_count": 2,
   "id": "c4abc810-043f-4d46-922c-8a12a5d466f3",
   "metadata": {},
   "outputs": [],
   "source": [
    "orig_dataset = pd.read_csv('seeds_dataset.csv')\n",
    "n_folds = 5\n",
    "layer_info = [(7,5),(5,3)]\n",
    "lr = 0.5\n",
    "epochs = 13\n",
    "# seed_n = 42\n",
    "seed(42)\n",
    "np.random.seed(42)"
   ]
  },
  {
   "cell_type": "code",
   "execution_count": 3,
   "id": "7cbe568b-574a-4da4-88db-d0f22fe03c01",
   "metadata": {},
   "outputs": [],
   "source": [
    "def preprocessing(epochs, orig_dataset):\n",
    "    \n",
    "    dataset = (orig_dataset - orig_dataset.min())/(orig_dataset.max()-orig_dataset.min())\n",
    "    dataset['y'] = pd.to_numeric(orig_dataset['y'], downcast='integer')\n",
    "    x = dataset #;y=x.pop('y')\n",
    "    training_sets = np.zeros(5)\n",
    "    training_sets = list(training_sets)\n",
    "    for counter in range(epochs):\n",
    "        new_set = pd.DataFrame(data=[],columns=x.columns)\n",
    "        for k in range(len(x)//epochs):\n",
    "            i = random.randrange(len(x))\n",
    "            new_set.loc[k] = x.iloc[i]\n",
    "            x.drop(i)\n",
    "        training_sets[counter] = new_set\n",
    "    return training_sets\n",
    "data = preprocessing(n_folds,orig_dataset)\n",
    "# print(data[0])"
   ]
  },
  {
   "cell_type": "code",
   "execution_count": 4,
   "id": "b820b714-8b77-4adb-b881-7ee0b5c90c40",
   "metadata": {},
   "outputs": [
    {
     "name": "stdout",
     "output_type": "stream",
     "text": [
      "[{'w': array([[0.37454012, 0.95071431, 0.73199394, 0.59865848, 0.15601864,\n",
      "        0.15599452, 0.05808361],\n",
      "       [0.86617615, 0.60111501, 0.70807258, 0.02058449, 0.96990985,\n",
      "        0.83244264, 0.21233911],\n",
      "       [0.18182497, 0.18340451, 0.30424224, 0.52475643, 0.43194502,\n",
      "        0.29122914, 0.61185289],\n",
      "       [0.13949386, 0.29214465, 0.36636184, 0.45606998, 0.78517596,\n",
      "        0.19967378, 0.51423444],\n",
      "       [0.59241457, 0.04645041, 0.60754485, 0.17052412, 0.06505159,\n",
      "        0.94888554, 0.96563203]]), 'b': array([0.80839735, 0.30461377, 0.09767211, 0.68423303, 0.44015249]), 'del': array([0., 0., 0., 0., 0.])}, {'w': array([[0.12203823, 0.49517691, 0.03438852, 0.9093204 , 0.25877998],\n",
      "       [0.66252228, 0.31171108, 0.52006802, 0.54671028, 0.18485446],\n",
      "       [0.96958463, 0.77513282, 0.93949894, 0.89482735, 0.59789998]]), 'b': array([0.92187424, 0.0884925 , 0.19598286]), 'del': array([0., 0., 0.])}]\n"
     ]
    }
   ],
   "source": [
    "def network_create(layers):\n",
    "    network = []\n",
    "    \n",
    "    for i in range(len(layers)):\n",
    "        layer = {}\n",
    "        inputs, nodes = layers[i]\n",
    "        weight = np.random.rand(nodes, inputs)\n",
    "        bias = np.random.rand(nodes)\n",
    "        layer['w'] = weight\n",
    "        layer['b'] = bias\n",
    "        layer['del'] = np.zeros(nodes)\n",
    "        network.append(layer)\n",
    "    # for i in network:\n",
    "    #     print(i)\n",
    "    return network\n",
    "\n",
    "\n",
    "network = network_create(layer_info)\n",
    "print(network)"
   ]
  },
  {
   "cell_type": "code",
   "execution_count": null,
   "id": "a4029f3a-82e4-471c-a942-2af536c9548f",
   "metadata": {},
   "outputs": [],
   "source": []
  },
  {
   "cell_type": "code",
   "execution_count": 5,
   "id": "a9cbd419-2511-4b40-ad90-7974bc4d7039",
   "metadata": {},
   "outputs": [],
   "source": [
    "def sigmoid(z):\n",
    "    return 1/(1+np.exp(-z))"
   ]
  },
  {
   "cell_type": "code",
   "execution_count": 6,
   "id": "e0731f38-c9f2-434f-a5f7-efec1d529cd4",
   "metadata": {},
   "outputs": [],
   "source": [
    "def Dense(A_in,W,B):\n",
    "    Z = A_in @ W.T + B\n",
    "    A_out = sigmoid(Z)\n",
    "    return A_out"
   ]
  },
  {
   "cell_type": "code",
   "execution_count": 7,
   "id": "05c3108b-0735-45be-853e-c29c3e3f3e66",
   "metadata": {},
   "outputs": [],
   "source": [
    "def forward_prop(data, network):\n",
    "    a_in = data\n",
    "    for layer in network:\n",
    "        a_out = Dense(a_in, layer['w'], layer['b'])\n",
    "        layer['z'] = a_out\n",
    "        a_in = a_out\n",
    "    # for i in network:\n",
    "    #     for j in i:\n",
    "    #         print(j, i[j])   \n",
    "    return network\n",
    "    "
   ]
  },
  {
   "cell_type": "code",
   "execution_count": 8,
   "id": "02f4d406-5da5-4919-b693-433523430065",
   "metadata": {},
   "outputs": [],
   "source": [
    "data_row = data[0].iloc[0]\n",
    "or_data_row = data_row[:]\n",
    "y = data_row.pop('y')\n",
    "# print(data_row)\n",
    "# forward_prop(data_row, network)\n"
   ]
  },
  {
   "cell_type": "code",
   "execution_count": 9,
   "id": "12bc7688-b91e-4dbd-82f6-205c888b6a3b",
   "metadata": {},
   "outputs": [],
   "source": [
    "def transfer_derivative(z):\n",
    "    return z*(1.0-z)"
   ]
  },
  {
   "cell_type": "code",
   "execution_count": 10,
   "id": "98fb9447-8132-41cf-918e-b37be5f05af8",
   "metadata": {},
   "outputs": [],
   "source": [
    "def backpropagate(data, network, layers, learning_rate):\n",
    "    alpha = learning_rate\n",
    "    del_k = np.zeros(len(layers))\n",
    "    data_y = np.zeros(layers[-1][1])\n",
    "    data_y[int(data['y']-1)] = 1\n",
    "    # print(data_y)\n",
    "    for i in reversed(range(len(network))):\n",
    "        # print(network[i]['z'])\n",
    "        if i!=len(network)-1:\n",
    "            for j in range(layers[i][1]):\n",
    "                del_inj = np.sum(np.sum(network[i+1]['del'])*network[i+1]['w'])\n",
    "                network[i]['del'] = del_inj*transfer_derivative(network[i]['z'])\n",
    "                # print(f\"network[{i}]['del'][{j}] \",network[i]['del'][j])\n",
    "        else:\n",
    "            # network[i]['del'][int(data['y']-1)]=(1-network[i]['z'][int(data['y']-1)])*transfer_derivative(network[i]['z'][int(data['y']-1)])\n",
    "            network[i]['del']=(1-network[i]['z'][int(data['y']-1)])*transfer_derivative(network[i]['z'])\n",
    "            # print(network[i]['z'])\n",
    "    for i in reversed(range(len(network))):\n",
    "        for j in range(layers[i][1]):\n",
    "            if i>0:\n",
    "                network[i]['w'][j] -= learning_rate*network[i]['del'][j]*network[i-1]['z'][j]\n",
    "                network[i]['b'][j] -= learning_rate*network[i]['del'][j]\n",
    "            else:\n",
    "                network[i]['w'][j] -= learning_rate*network[i]['del'][j]*data.iloc[j]\n",
    "                network[i]['b'][j] -= learning_rate*network[i]['del'][j]\n",
    "    # print(network[0]['w'],'\\n\\n\\n\\n\\n')\n",
    "    return network\n",
    "\n",
    "    "
   ]
  },
  {
   "cell_type": "code",
   "execution_count": 11,
   "id": "274c1ad9-d004-4091-ac29-89d87c2b5ac8",
   "metadata": {},
   "outputs": [],
   "source": [
    "def predict(data_row_test, network,output):\n",
    "    y = data_row_test.pop('y')\n",
    "    a_in = data_row_test\n",
    "    for layer in network:\n",
    "        a_out = Dense(a_in, layer['w'], layer['b'])\n",
    "        layer['z'] = a_out\n",
    "        a_in = a_out\n",
    "    output[0].append(y)\n",
    "    output[1].append(list(a_out).index(max(list(a_out)))+1)\n",
    "    # print('pred-',y,a_out,list(a_out).index(max(list(a_out)))+1)\n",
    "    return output"
   ]
  },
  {
   "cell_type": "code",
   "execution_count": 12,
   "id": "b529006c-3dd6-40d7-ac3f-24a106e41537",
   "metadata": {},
   "outputs": [],
   "source": [
    "def accuracy_metric(test,network,accuracy):\n",
    "    for test_item in range(test.shape[0]):\n",
    "    # print(test.iloc[test_item])\n",
    "        accuracy = predict(test.iloc[test_item], network, accuracy)\n",
    "    return accuracy"
   ]
  },
  {
   "cell_type": "code",
   "execution_count": 13,
   "id": "4889d08e-6c59-4431-8e11-7fc2f326ea8c",
   "metadata": {},
   "outputs": [],
   "source": [
    "def evaluate(predicted):\n",
    "    c = 0\n",
    "    samples = len(predicted[0])\n",
    "    for i in range(samples):\n",
    "        if predicted[0][i] == predicted[1][i]:\n",
    "            c+=1\n",
    "    accuracy = c/samples*100\n",
    "    return accuracy"
   ]
  },
  {
   "cell_type": "code",
   "execution_count": 14,
   "id": "05788181-6354-4794-8ddd-f3221f9283a4",
   "metadata": {},
   "outputs": [
    {
     "name": "stdout",
     "output_type": "stream",
     "text": [
      "55.23809523809524\n",
      "59.04761904761905\n",
      "59.523809523809526\n",
      "59.523809523809526\n",
      "59.523809523809526\n",
      "57.61904761904761\n",
      "57.61904761904761\n",
      "57.61904761904761\n",
      "57.61904761904761\n",
      "57.61904761904761\n",
      "57.14285714285714\n",
      "55.714285714285715\n",
      "54.761904761904766\n"
     ]
    }
   ],
   "source": [
    "sets = preprocessing(n_folds, orig_dataset)\n",
    "# print(test)\n",
    "\n",
    "for _ in range(epochs):\n",
    "    accuracy = [[],[]]\n",
    "    for i in range(n_folds):\n",
    "        sets_cpy = sets[:]\n",
    "        test = sets_cpy.pop(i)\n",
    "        train = pd.concat(sets_cpy)\n",
    "        # print('\\n\\ntest------',test)\n",
    "        # print('\\n\\ntrain------',train)\n",
    "        for item in range(train.shape[0]):\n",
    "            data_row = train.iloc[item]\n",
    "            or_data_row = data_row[:]\n",
    "            y = data_row.pop('y')\n",
    "            network = backpropagate(or_data_row, forward_prop(data_row, network), layer_info,lr)\n",
    "        accuracy = accuracy_metric(test,network,accuracy)\n",
    "    a = evaluate(accuracy)\n",
    "    print(a)\n",
    "        \n",
    "    \n",
    "\n",
    "    # print(\"\\n\\n\\n\")\n",
    "# print(accuracy)\n",
    "# print('layer 1', network[0], 'layer output', network[1])"
   ]
  },
  {
   "cell_type": "code",
   "execution_count": 16,
   "id": "a5471c62-d8b2-4efe-a23a-56e4bc5196e8",
   "metadata": {},
   "outputs": [
    {
     "data": {
      "text/plain": [
       "54.761904761904766"
      ]
     },
     "execution_count": 16,
     "metadata": {},
     "output_type": "execute_result"
    }
   ],
   "source": [
    "evaluate(accuracy)"
   ]
  },
  {
   "cell_type": "code",
   "execution_count": 17,
   "id": "120cf520-cef5-48ef-ba94-bdf2248bdcb8",
   "metadata": {},
   "outputs": [
    {
     "data": {
      "text/plain": [
       "[{'w': array([[-0.86424488, -0.2880707 , -0.50679106, -0.64012652, -1.08276636,\n",
       "          -1.08279048, -1.18070139],\n",
       "         [-0.44393257, -0.70899371, -0.60203614, -1.28952422, -0.34019886,\n",
       "          -0.47766608, -1.09776961],\n",
       "         [-1.14453586, -1.14295632, -1.02211859, -0.8016044 , -0.89441581,\n",
       "          -1.03513169, -0.71450793],\n",
       "         [-1.06830706, -0.91565627, -0.84143908, -0.75173094, -0.42262496,\n",
       "          -1.00812714, -0.69356648],\n",
       "         [-0.6237487 , -1.16971285, -0.60861841, -1.04563914, -1.15111167,\n",
       "          -0.26727773, -0.25053123]]),\n",
       "  'b': array([-2.40622818, -2.71666014, -2.34266045, -2.40835488, -2.66170719]),\n",
       "  'del': array([7.98766485e-06, 7.22908464e-06, 5.16334460e-06, 7.31292751e-06,\n",
       "         6.85408487e-06]),\n",
       "  'z': array([0.00163911, 0.00162858, 0.00072157, 0.00157257, 0.00130548])},\n",
       " {'w': array([[-0.44983005, -0.07669138, -0.53747977,  0.33745211, -0.31308831],\n",
       "         [ 0.02336703, -0.32744417, -0.11908723, -0.09244497, -0.45430079],\n",
       "         [ 0.75534885,  0.56089705,  0.72526317,  0.68059158,  0.3836642 ]]),\n",
       "  'b': array([-8.58486275, -8.585674  , -8.6354844 ]),\n",
       "  'del': array([0.00018478, 0.00018464, 0.00018407]),\n",
       "  'z': array([0.00018667, 0.00018648, 0.00017841])}]"
      ]
     },
     "execution_count": 17,
     "metadata": {},
     "output_type": "execute_result"
    }
   ],
   "source": [
    "network"
   ]
  },
  {
   "cell_type": "code",
   "execution_count": null,
   "id": "df739843-c07c-4a82-a166-f4803c5deced",
   "metadata": {},
   "outputs": [],
   "source": []
  }
 ],
 "metadata": {
  "kernelspec": {
   "display_name": "Python 3 (ipykernel)",
   "language": "python",
   "name": "python3"
  },
  "language_info": {
   "codemirror_mode": {
    "name": "ipython",
    "version": 3
   },
   "file_extension": ".py",
   "mimetype": "text/x-python",
   "name": "python",
   "nbconvert_exporter": "python",
   "pygments_lexer": "ipython3",
   "version": "3.12.2"
  }
 },
 "nbformat": 4,
 "nbformat_minor": 5
}
