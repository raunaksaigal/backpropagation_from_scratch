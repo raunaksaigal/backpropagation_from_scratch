{
 "cells": [
  {
   "cell_type": "code",
   "execution_count": 1,
   "id": "36a4a96a-3d8a-485f-8afb-cb0dde00bee6",
   "metadata": {},
   "outputs": [],
   "source": [
    "import numpy as np\n",
    "import pandas as pd\n",
    "import matplotlib.pyplot as plt\n",
    "import random\n",
    "from random import seed"
   ]
  },
  {
   "cell_type": "code",
   "execution_count": 2,
   "id": "c4abc810-043f-4d46-922c-8a12a5d466f3",
   "metadata": {},
   "outputs": [],
   "source": [
    "orig_dataset = pd.read_csv('seeds_dataset.csv')\n",
    "n_folds = 5\n",
    "layer_info = [(7,5),(5,3)]\n",
    "lr = 0.5\n",
    "epochs = 20\n",
    "seed_n = 42\n",
    "seed(69)\n",
    "np.random.seed(69)"
   ]
  },
  {
   "cell_type": "code",
   "execution_count": 3,
   "id": "7cbe568b-574a-4da4-88db-d0f22fe03c01",
   "metadata": {},
   "outputs": [],
   "source": [
    "def preprocessing(epochs, orig_dataset):\n",
    "    \n",
    "    dataset = (orig_dataset - orig_dataset.min())/(orig_dataset.max()-orig_dataset.min())\n",
    "    dataset['y'] = pd.to_numeric(orig_dataset['y'], downcast='integer')\n",
    "    x = dataset #;y=x.pop('y')\n",
    "    training_sets = np.zeros(5)\n",
    "    training_sets = list(training_sets)\n",
    "    for counter in range(epochs):\n",
    "        new_set = pd.DataFrame(data=[],columns=x.columns)\n",
    "        for k in range(len(x)//epochs):\n",
    "            i = random.randrange(len(x))\n",
    "            new_set.loc[k] = x.iloc[i]\n",
    "            x.drop(i)\n",
    "        training_sets[counter] = new_set\n",
    "    return training_sets\n",
    "data = preprocessing(n_folds,orig_dataset)\n",
    "# print(data[0])"
   ]
  },
  {
   "cell_type": "code",
   "execution_count": 4,
   "id": "b820b714-8b77-4adb-b881-7ee0b5c90c40",
   "metadata": {},
   "outputs": [
    {
     "name": "stdout",
     "output_type": "stream",
     "text": [
      "[{'w': array([[0.29624916, 0.80906772, 0.35025253, 0.78940926, 0.56134898,\n",
      "        0.25358895, 0.10497708],\n",
      "       [0.05846073, 0.67329238, 0.69782966, 0.73278321, 0.78787406,\n",
      "        0.07637632, 0.3176806 ],\n",
      "       [0.74102328, 0.32849423, 0.47014548, 0.18108572, 0.3235044 ,\n",
      "        0.45490616, 0.52963052],\n",
      "       [0.29303055, 0.27697515, 0.67815307, 0.2334587 , 0.67725537,\n",
      "        0.4323325 , 0.38766629],\n",
      "       [0.33544621, 0.51322212, 0.98769111, 0.53091437, 0.68043616,\n",
      "        0.39113473, 0.1165562 ]]), 'b': array([0.70722573, 0.41361609, 0.45603303, 0.33195254, 0.09371524]), 'del': array([0., 0., 0., 0., 0.])}, {'w': array([[0.4577167 , 0.80579291, 0.19350921, 0.46502849, 0.19091752],\n",
      "       [0.07588166, 0.03198771, 0.15245555, 0.25709202, 0.06937377],\n",
      "       [0.92718944, 0.54662592, 0.96729604, 0.89730852, 0.39105022]]), 'b': array([0.37876973, 0.6515744 , 0.85627836]), 'del': array([0., 0., 0.])}]\n"
     ]
    }
   ],
   "source": [
    "def network_create(layers):\n",
    "    network = []\n",
    "    \n",
    "    for i in range(len(layers)):\n",
    "        layer = {}\n",
    "        inputs, nodes = layers[i]\n",
    "        weight = np.random.rand(nodes, inputs)\n",
    "        bias = np.random.rand(nodes)\n",
    "        layer['w'] = weight\n",
    "        layer['b'] = bias\n",
    "        layer['del'] = np.zeros(nodes)\n",
    "        network.append(layer)\n",
    "    # for i in network:\n",
    "    #     print(i)\n",
    "    return network\n",
    "\n",
    "\n",
    "network = network_create(layer_info)\n",
    "print(network)"
   ]
  },
  {
   "cell_type": "code",
   "execution_count": null,
   "id": "a4029f3a-82e4-471c-a942-2af536c9548f",
   "metadata": {},
   "outputs": [],
   "source": []
  },
  {
   "cell_type": "code",
   "execution_count": 5,
   "id": "a9cbd419-2511-4b40-ad90-7974bc4d7039",
   "metadata": {},
   "outputs": [],
   "source": [
    "def sigmoid(z):\n",
    "    return 1/(1+np.exp(-z))"
   ]
  },
  {
   "cell_type": "code",
   "execution_count": 6,
   "id": "e0731f38-c9f2-434f-a5f7-efec1d529cd4",
   "metadata": {},
   "outputs": [],
   "source": [
    "def Dense(A_in,W,B):\n",
    "    Z = A_in @ W.T + B\n",
    "    A_out = sigmoid(Z)\n",
    "    return A_out"
   ]
  },
  {
   "cell_type": "code",
   "execution_count": 7,
   "id": "05c3108b-0735-45be-853e-c29c3e3f3e66",
   "metadata": {},
   "outputs": [],
   "source": [
    "def forward_prop(data, network):\n",
    "    a_in = data\n",
    "    for layer in network:\n",
    "        a_out = Dense(a_in, layer['w'], layer['b'])\n",
    "        layer['z'] = a_out\n",
    "        a_in = a_out\n",
    "    # for i in network:\n",
    "    #     for j in i:\n",
    "    #         print(j, i[j])   \n",
    "    return network\n",
    "    "
   ]
  },
  {
   "cell_type": "code",
   "execution_count": 8,
   "id": "02f4d406-5da5-4919-b693-433523430065",
   "metadata": {},
   "outputs": [],
   "source": [
    "data_row = data[0].iloc[0]\n",
    "or_data_row = data_row[:]\n",
    "y = data_row.pop('y')\n",
    "# print(data_row)\n",
    "# forward_prop(data_row, network)\n"
   ]
  },
  {
   "cell_type": "code",
   "execution_count": 9,
   "id": "12bc7688-b91e-4dbd-82f6-205c888b6a3b",
   "metadata": {},
   "outputs": [],
   "source": [
    "def transfer_derivative(z):\n",
    "    return z*(1.0-z)"
   ]
  },
  {
   "cell_type": "code",
   "execution_count": 10,
   "id": "98fb9447-8132-41cf-918e-b37be5f05af8",
   "metadata": {},
   "outputs": [],
   "source": [
    "def backpropagate(data, network, layers, learning_rate):\n",
    "    alpha = learning_rate\n",
    "    del_k = np.zeros(len(layers))\n",
    "    data_y = np.zeros(layers[-1][1])\n",
    "    data_y[int(data['y']-1)] = 1\n",
    "    # print(data_y)\n",
    "    for i in reversed(range(len(network))):\n",
    "        # print(network[i]['z'])\n",
    "        if i!=len(network)-1:\n",
    "            for j in range(layers[i][1]):\n",
    "                del_inj = np.sum(np.sum(network[i+1]['del'])*network[i+1]['w'])\n",
    "                network[i]['del'] = del_inj*transfer_derivative(network[i]['z'])\n",
    "                # print(f\"network[{i}]['del'][{j}] \",network[i]['del'][j])\n",
    "        else:\n",
    "            # network[i]['del'][int(data['y']-1)]=(1-network[i]['z'][int(data['y']-1)])*transfer_derivative(network[i]['z'][int(data['y']-1)])\n",
    "            network[i]['del']=(1-network[i]['z'][int(data['y']-1)])*transfer_derivative(network[i]['z'])\n",
    "            # print(network[i]['z'])\n",
    "    for i in reversed(range(len(network))):\n",
    "        for j in range(layers[i][1]):\n",
    "            if i>0:\n",
    "                network[i]['w'][j] -= learning_rate*network[i]['del'][j]*network[i-1]['z'][j]\n",
    "                network[i]['b'][j] -= learning_rate*network[i]['del'][j]\n",
    "            else:\n",
    "                network[i]['w'][j] -= learning_rate*network[i]['del'][j]*data.iloc[j]\n",
    "                network[i]['b'][j] -= learning_rate*network[i]['del'][j]\n",
    "    # print(network[0]['w'],'\\n\\n\\n\\n\\n')\n",
    "    return network\n",
    "\n",
    "    "
   ]
  },
  {
   "cell_type": "code",
   "execution_count": 11,
   "id": "274c1ad9-d004-4091-ac29-89d87c2b5ac8",
   "metadata": {},
   "outputs": [],
   "source": [
    "def predict(data_row_test, network,output):\n",
    "    y = data_row_test.pop('y')\n",
    "    a_in = data_row_test\n",
    "    for layer in network:\n",
    "        a_out = Dense(a_in, layer['w'], layer['b'])\n",
    "        layer['z'] = a_out\n",
    "        a_in = a_out\n",
    "    output[0].append(y)\n",
    "    output[1].append(list(a_out).index(max(list(a_out)))+1)\n",
    "    print('pred-',y,a_out,list(a_out).index(max(list(a_out)))+1)\n",
    "    return output"
   ]
  },
  {
   "cell_type": "code",
   "execution_count": 12,
   "id": "05788181-6354-4794-8ddd-f3221f9283a4",
   "metadata": {},
   "outputs": [
    {
     "name": "stdout",
     "output_type": "stream",
     "text": [
      "pred- 1.0 [1.92859180e-05 1.92005384e-05 1.92698296e-05] 1\n",
      "pred- 1.0 [1.95326756e-05 1.94577613e-05 1.95122155e-05] 1\n",
      "pred- 1.0 [1.97745568e-05 1.97165035e-05 1.97563997e-05] 1\n",
      "pred- 3.0 [2.45834573e-05 2.48387725e-05 2.46498864e-05] 2\n",
      "pred- 2.0 [1.86149152e-05 1.84891566e-05 1.85924405e-05] 1\n",
      "pred- 1.0 [1.96741262e-05 1.96052240e-05 1.96603022e-05] 1\n",
      "pred- 2.0 [1.85389630e-05 1.84086879e-05 1.85143339e-05] 1\n",
      "pred- 2.0 [1.85664305e-05 1.84377376e-05 1.85421237e-05] 1\n",
      "pred- 2.0 [1.86972325e-05 1.85758791e-05 1.86757533e-05] 1\n",
      "pred- 2.0 [1.85036536e-05 1.83717559e-05 1.84790217e-05] 1\n",
      "pred- 1.0 [1.90190049e-05 1.89152217e-05 1.89932529e-05] 1\n",
      "pred- 3.0 [2.46389704e-05 2.49040361e-05 2.47194336e-05] 2\n",
      "pred- 3.0 [1.99836666e-05 1.99508706e-05 1.99777605e-05] 1\n",
      "pred- 1.0 [1.91710880e-05 1.90724321e-05 1.91455986e-05] 1\n",
      "pred- 2.0 [1.86440583e-05 1.85208291e-05 1.86221098e-05] 1\n",
      "pred- 1.0 [1.93803782e-05 1.92981604e-05 1.93514738e-05] 1\n",
      "pred- 2.0 [1.85038982e-05 1.83708919e-05 1.84789073e-05] 1\n",
      "pred- 1.0 [1.96243422e-05 1.95547661e-05 1.96080695e-05] 1\n",
      "pred- 3.0 [2.45834573e-05 2.48387725e-05 2.46498864e-05] 2\n",
      "pred- 1.0 [1.94387805e-05 1.93603098e-05 1.94161460e-05] 1\n",
      "pred- 2.0 [1.85185388e-05 1.83862949e-05 1.84936959e-05] 1\n",
      "pred- 3.0 [2.27322113e-05 2.28630928e-05 2.27793973e-05] 2\n",
      "pred- 2.0 [1.85590754e-05 1.84296970e-05 1.85343473e-05] 1\n",
      "pred- 1.0 [1.94284722e-05 1.93514263e-05 1.94049858e-05] 1\n",
      "pred- 3.0 [1.99836666e-05 1.99508706e-05 1.99777605e-05] 1\n",
      "pred- 3.0 [2.05381594e-05 2.05320069e-05 2.05450556e-05] 3\n",
      "pred- 1.0 [1.96243422e-05 1.95547661e-05 1.96080695e-05] 1\n",
      "pred- 2.0 [1.86270267e-05 1.85023672e-05 1.86044145e-05] 1\n",
      "pred- 3.0 [2.20476148e-05 2.21320498e-05 2.21037684e-05] 2\n",
      "pred- 1.0 [1.93482931e-05 1.92604107e-05 1.93290665e-05] 1\n",
      "pred- 2.0 [1.84503360e-05 1.83149323e-05 1.84249266e-05] 1\n",
      "pred- 3.0 [2.13808763e-05 2.14443251e-05 2.14122097e-05] 2\n",
      "pred- 2.0 [1.86273130e-05 1.85021746e-05 1.86042674e-05] 1\n",
      "pred- 1.0 [1.98586073e-05 1.98032152e-05 1.98389308e-05] 1\n",
      "pred- 2.0 [1.85036536e-05 1.83717559e-05 1.84790217e-05] 1\n",
      "pred- 1.0 [2.09181436e-05 2.09027674e-05 2.08894077e-05] 1\n",
      "pred- 1.0 [2.14132164e-05 2.14270399e-05 2.13774431e-05] 2\n",
      "pred- 3.0 [2.46389704e-05 2.49040361e-05 2.47194336e-05] 2\n",
      "pred- 3.0 [2.36301245e-05 2.38215543e-05 2.37036647e-05] 2\n",
      "pred- 1.0 [1.96243422e-05 1.95547661e-05 1.96080695e-05] 1\n",
      "pred- 2.0 [1.87267976e-05 1.86089080e-05 1.87074652e-05] 1\n",
      "pred- 2.0 [1.84503360e-05 1.83149323e-05 1.84249266e-05] 1\n"
     ]
    }
   ],
   "source": [
    "sets = preprocessing(n_folds, orig_dataset)\n",
    "# print(test)\n",
    "accuracy = [[],[]]\n",
    "for _ in range(epochs):\n",
    "    for i in range(n_folds):\n",
    "        sets_cpy = sets[:]\n",
    "        test = sets_cpy.pop(i)\n",
    "        train = pd.concat(sets_cpy)\n",
    "        # print('\\n\\ntest------',test)\n",
    "        # print('\\n\\ntrain------',train)\n",
    "        for item in range(train.shape[0]):\n",
    "            data_row = train.iloc[item]\n",
    "            or_data_row = data_row[:]\n",
    "            y = data_row.pop('y')\n",
    "            network = backpropagate(or_data_row, forward_prop(data_row, network), layer_info,lr)\n",
    "for test_item in range(test.shape[0]):\n",
    "    # print(test.iloc[test_item])\n",
    "    accuracy = predict(test.iloc[test_item], network, accuracy)\n",
    "    # print(\"\\n\\n\\n\")\n",
    "# print(accuracy)\n",
    "# print('layer 1', network[0], 'layer output', network[1])"
   ]
  },
  {
   "cell_type": "code",
   "execution_count": 13,
   "id": "aa1746b9-e7cd-49e4-a559-522b0e235be8",
   "metadata": {},
   "outputs": [],
   "source": [
    "def evaluate(predicted):\n",
    "    c = 0\n",
    "    samples = len(predicted[0])\n",
    "    for i in range(samples):\n",
    "        if predicted[0][i] == predicted[1][i]:\n",
    "            c+=1\n",
    "    accuracy = c/samples*100\n",
    "    return accuracy\n"
   ]
  },
  {
   "cell_type": "code",
   "execution_count": 14,
   "id": "a5471c62-d8b2-4efe-a23a-56e4bc5196e8",
   "metadata": {},
   "outputs": [
    {
     "data": {
      "text/plain": [
       "38.095238095238095"
      ]
     },
     "execution_count": 14,
     "metadata": {},
     "output_type": "execute_result"
    }
   ],
   "source": [
    "evaluate(accuracy)"
   ]
  },
  {
   "cell_type": "code",
   "execution_count": null,
   "id": "08e658b3-d0f1-4369-b01d-6003d015151c",
   "metadata": {},
   "outputs": [],
   "source": []
  }
 ],
 "metadata": {
  "kernelspec": {
   "display_name": "Python 3 (ipykernel)",
   "language": "python",
   "name": "python3"
  },
  "language_info": {
   "codemirror_mode": {
    "name": "ipython",
    "version": 3
   },
   "file_extension": ".py",
   "mimetype": "text/x-python",
   "name": "python",
   "nbconvert_exporter": "python",
   "pygments_lexer": "ipython3",
   "version": "3.12.2"
  }
 },
 "nbformat": 4,
 "nbformat_minor": 5
}
